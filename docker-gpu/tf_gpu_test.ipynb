{
 "cells": [
  {
   "cell_type": "markdown",
   "metadata": {},
   "source": [
    "## system environment"
   ]
  },
  {
   "cell_type": "code",
   "execution_count": null,
   "metadata": {},
   "outputs": [],
   "source": [
    "import sys\n",
    "print(sys.version)\n",
    "print(sys.executable)"
   ]
  },
  {
   "cell_type": "code",
   "execution_count": null,
   "metadata": {},
   "outputs": [],
   "source": [
    "import psutil\n",
    "print(\"{} GB RAM\".format(int(round(psutil.virtual_memory().total/1024/1024/1024))))"
   ]
  },
  {
   "cell_type": "code",
   "execution_count": null,
   "metadata": {},
   "outputs": [],
   "source": [
    "import multiprocessing\n",
    "print(\"{} CPU\".format(multiprocessing.cpu_count()))"
   ]
  },
  {
   "cell_type": "markdown",
   "metadata": {},
   "source": [
    "## tensorflow and keras versions, available devices"
   ]
  },
  {
   "cell_type": "code",
   "execution_count": null,
   "metadata": {},
   "outputs": [],
   "source": [
    "import tensorflow as tf\n",
    "from tensorflow import keras\n",
    "print(tf.__version__)\n",
    "print(keras.__version__)"
   ]
  },
  {
   "cell_type": "code",
   "execution_count": null,
   "metadata": {},
   "outputs": [],
   "source": [
    "for d in tf.config.list_physical_devices():\n",
    "    print(d)"
   ]
  },
  {
   "cell_type": "markdown",
   "metadata": {},
   "source": [
    "e.g. (non-GPU)\n",
    "```\n",
    "PhysicalDevice(name='/physical_device:CPU:0', device_type='CPU')\n",
    "PhysicalDevice(name='/physical_device:XLA_CPU:0', device_type='XLA_CPU')\n",
    "```\n",
    "or\n",
    "```\n",
    "PhysicalDevice(name='/physical_device:CPU:0', device_type='CPU')\n",
    "PhysicalDevice(name='/physical_device:XLA_CPU:0', device_type='XLA_CPU')\n",
    "PhysicalDevice(name='/physical_device:XLA_GPU:0', device_type='XLA_GPU')\n",
    "PhysicalDevice(name='/physical_device:GPU:0', device_type='GPU')\n",
    "```"
   ]
  },
  {
   "cell_type": "markdown",
   "metadata": {},
   "source": [
    "## CPU vs. GPU timing"
   ]
  },
  {
   "cell_type": "code",
   "execution_count": null,
   "metadata": {},
   "outputs": [],
   "source": [
    "import numpy as np\n",
    "import tensorflow as tf\n",
    "from   time import time\n",
    "\n",
    "N = 1024\n",
    "A = np.random.rand(N, N).astype('float32')\n",
    "B = np.random.rand(N, N).astype('float32')\n",
    "\n",
    "device_names = [\"CPU\"]\n",
    "if tf.config.list_physical_devices(\"GPU\"):\n",
    "    device_names.append(\"GPU\")\n",
    "\n",
    "MULTIPLICATIONS = [1, 2, 5, 10, 20, 50, 100, 200, 500, 1000, 2000, 5000, 10000]\n",
    "REPETITIONS = 3\n",
    "PRINT_LAST_REPETITION_ONLY = True\n",
    "\n",
    "N_PATTERN = \"{:>16}\" \n",
    "PER_DEVICE_PATTERN =  \"{:>14}\"\n",
    "TIME_PATTERN = \"{:.2f} s\"\n",
    "\n",
    "print(N_PATTERN.format(\"multiplications\"), end=\"\")\n",
    "for device_name in device_names:\n",
    "    print(PER_DEVICE_PATTERN.format(device_name), end=\"\")\n",
    "print()\n",
    "\n",
    "for n in MULTIPLICATIONS:\n",
    "    for i in range(REPETITIONS):\n",
    "        infos = [N_PATTERN.format(n)]\n",
    "        for device_name in device_names:\n",
    "            t = \"n.d.\"\n",
    "            if n <= 100 or device_name == \"GPU\":\n",
    "                t0 = time()\n",
    "                with tf.device(\"/{}:0\".format(device_name)):\n",
    "                    a = tf.Variable(A)\n",
    "                    b = tf.Variable(B)\n",
    "                    c = tf.matmul(a, b)\n",
    "                    for r in range(n - 1):\n",
    "                        c = tf.matmul(c, b)\n",
    "                    if device_name != c.device.split(\":\")[-2]:\n",
    "                        raise RuntimeError(\"Unexpected device for '{}': '{}'!\".format(device_name, c.device))\n",
    "                t1 = time()\n",
    "                t = TIME_PATTERN.format(t1 - t0)\n",
    "            infos.append(PER_DEVICE_PATTERN.format(t))\n",
    "        if not PRINT_LAST_REPETITION_ONLY or i == REPETITIONS - 1:\n",
    "            print(\"\".join(infos))"
   ]
  },
  {
   "cell_type": "markdown",
   "metadata": {},
   "source": [
    "e.g.\n",
    "```\n",
    " multiplications           CPU           GPU\n",
    "               1        0.05 s        0.01 s\n",
    "               2        0.09 s        0.01 s\n",
    "               5        0.23 s        0.01 s\n",
    "              10        0.45 s        0.01 s\n",
    "              20        0.90 s        0.01 s\n",
    "              50        2.22 s        0.01 s\n",
    "             100        4.44 s        0.01 s\n",
    "             200          n.d.        0.23 s\n",
    "             500          n.d.        0.56 s\n",
    "            1000          n.d.        1.12 s\n",
    "            2000          n.d.        2.24 s\n",
    "            5000          n.d.        5.59 s\n",
    "           10000          n.d.       11.21 s\n",
    "```"
   ]
  }
 ],
 "metadata": {
  "kernelspec": {
   "display_name": "Python 3",
   "language": "python",
   "name": "python3"
  },
  "language_info": {
   "codemirror_mode": {
    "name": "ipython",
    "version": 3
   },
   "file_extension": ".py",
   "mimetype": "text/x-python",
   "name": "python",
   "nbconvert_exporter": "python",
   "pygments_lexer": "ipython3",
   "version": "3.6.9"
  }
 },
 "nbformat": 4,
 "nbformat_minor": 2
}
